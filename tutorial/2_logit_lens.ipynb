{
 "cells": [
  {
   "cell_type": "code",
   "execution_count": null,
   "metadata": {},
   "outputs": [
    {
     "name": "stdout",
     "output_type": "stream",
     "text": [
      "Changed working directory to: /orfeo/cephfs/home/dssc/francescortu/VisualComp/easyroutine\n"
     ]
    }
   ],
   "source": [
    "from easyroutine.utils import path_to_parents\n",
    "path_to_parents(1)\n",
    "%load_ext autoreload\n",
    "%autoreload 2"
   ]
  },
  {
   "cell_type": "code",
   "execution_count": 2,
   "metadata": {},
   "outputs": [
    {
     "name": "stderr",
     "output_type": "stream",
     "text": [
      "/u/dssc/francescortu/VisualComp/.venv/lib/python3.10/site-packages/tqdm/auto.py:21: TqdmWarning: IProgress not found. Please update jupyter and ipywidgets. See https://ipywidgets.readthedocs.io/en/stable/user_install.html\n",
      "  from .autonotebook import tqdm as notebook_tqdm\n",
      "/u/dssc/francescortu/VisualComp/.venv/lib/python3.10/site-packages/transformers/utils/hub.py:128: FutureWarning: Using `TRANSFORMERS_CACHE` is deprecated and will be removed in v5 of Transformers. Use `HF_HOME` instead.\n",
      "  warnings.warn(\n"
     ]
    }
   ],
   "source": [
    "from easyroutine.interpretability import HookedModel\n",
    "from easyroutine.interpretability.tools import LogitLens\n",
    "\n",
    "\n"
   ]
  },
  {
   "cell_type": "code",
   "execution_count": 3,
   "metadata": {},
   "outputs": [
    {
     "name": "stderr",
     "output_type": "stream",
     "text": [
      "/u/dssc/francescortu/VisualComp/.venv/lib/python3.10/site-packages/transformers/generation/configuration_utils.py:606: UserWarning: `pad_token_id` should be positive but got -1. This will cause errors when batch generating, if there is padding. Please set `pad_token_id` explicitly as `model.generation_config.pad_token_id=PAD_TOKEN_ID` to avoid errors in generation\n",
      "  warnings.warn(\n",
      "You are using the default legacy behaviour of the <class 'transformers.models.llama.tokenization_llama.LlamaTokenizer'>. This is expected, and simply means that the `legacy` (previous) behavior will be used so nothing changes for you. If you want to use the new behaviour, set `legacy=False`. This should only be set if you understand what it means, and thoroughly read the reason why this was added as explained in https://github.com/huggingface/transformers/pull/24565 - if you loaded a llama tokenizer from a GGUF file you can ignore this message\n"
     ]
    },
    {
     "data": {
      "text/html": [
       "<pre style=\"white-space:pre;overflow-x:auto;line-height:normal;font-family:Menlo,'DejaVu Sans Mono',consolas,'Courier New',monospace\"><span style=\"color: #7fbfbf; text-decoration-color: #7fbfbf\">[02/13/25 15:47:39] </span><span style=\"color: #000080; text-decoration-color: #000080\">INFO    </span> <span style=\"color: #008080; text-decoration-color: #008080; font-weight: bold\">2025</span>-<span style=\"color: #008080; text-decoration-color: #008080; font-weight: bold\">02</span>-<span style=\"color: #008080; text-decoration-color: #008080; font-weight: bold\">13</span> <span style=\"color: #00ff00; text-decoration-color: #00ff00; font-weight: bold\">15:47:39</span>,<span style=\"color: #008080; text-decoration-color: #008080; font-weight: bold\">839</span> - HookedModel_stdout - INFO - Model loaded in <span style=\"color: #008080; text-decoration-color: #008080; font-weight: bold\">1</span>  <a href=\"file:///orfeo/cephfs/home/dssc/francescortu/VisualComp/easyroutine/easyroutine/logger.py\" target=\"_blank\"><span style=\"color: #7f7f7f; text-decoration-color: #7f7f7f\">logger.py</span></a><span style=\"color: #7f7f7f; text-decoration-color: #7f7f7f\">:</span><a href=\"file:///orfeo/cephfs/home/dssc/francescortu/VisualComp/easyroutine/easyroutine/logger.py#122\" target=\"_blank\"><span style=\"color: #7f7f7f; text-decoration-color: #7f7f7f\">122</span></a>\n",
       "<span style=\"color: #7fbfbf; text-decoration-color: #7fbfbf\">                    </span>         devices. First device: cu<span style=\"color: #00ff00; text-decoration-color: #00ff00; font-weight: bold\">da:0</span>                                            <span style=\"color: #7f7f7f; text-decoration-color: #7f7f7f\">             </span>\n",
       "</pre>\n"
      ],
      "text/plain": [
       "\u001b[2;36m[02/13/25 15:47:39]\u001b[0m\u001b[2;36m \u001b[0m\u001b[34mINFO    \u001b[0m \u001b[1;36m2025\u001b[0m-\u001b[1;36m02\u001b[0m-\u001b[1;36m13\u001b[0m \u001b[1;92m15:47:39\u001b[0m,\u001b[1;36m839\u001b[0m - HookedModel_stdout - INFO - Model loaded in \u001b[1;36m1\u001b[0m  \u001b]8;id=760429;file:///orfeo/cephfs/home/dssc/francescortu/VisualComp/easyroutine/easyroutine/logger.py\u001b\\\u001b[2mlogger.py\u001b[0m\u001b]8;;\u001b\\\u001b[2m:\u001b[0m\u001b]8;id=330394;file:///orfeo/cephfs/home/dssc/francescortu/VisualComp/easyroutine/easyroutine/logger.py#122\u001b\\\u001b[2m122\u001b[0m\u001b]8;;\u001b\\\n",
       "\u001b[2;36m                    \u001b[0m         devices. First device: cu\u001b[1;92mda:0\u001b[0m                                            \u001b[2m             \u001b[0m\n"
      ]
     },
     "metadata": {},
     "output_type": "display_data"
    },
    {
     "data": {
      "text/html": [
       "<pre style=\"white-space:pre;overflow-x:auto;line-height:normal;font-family:Menlo,'DejaVu Sans Mono',consolas,'Courier New',monospace\"><span style=\"color: #7fbfbf; text-decoration-color: #7fbfbf\">                    </span><span style=\"color: #000080; text-decoration-color: #000080\">INFO    </span> <span style=\"color: #008080; text-decoration-color: #008080; font-weight: bold\">2025</span>-<span style=\"color: #008080; text-decoration-color: #008080; font-weight: bold\">02</span>-<span style=\"color: #008080; text-decoration-color: #008080; font-weight: bold\">13</span> <span style=\"color: #00ff00; text-decoration-color: #00ff00; font-weight: bold\">15:47:39</span>,<span style=\"color: #008080; text-decoration-color: #008080; font-weight: bold\">845</span> - HookedModel_stdout - INFO -                    <a href=\"file:///orfeo/cephfs/home/dssc/francescortu/VisualComp/easyroutine/easyroutine/logger.py\" target=\"_blank\"><span style=\"color: #7f7f7f; text-decoration-color: #7f7f7f\">logger.py</span></a><span style=\"color: #7f7f7f; text-decoration-color: #7f7f7f\">:</span><a href=\"file:///orfeo/cephfs/home/dssc/francescortu/VisualComp/easyroutine/easyroutine/logger.py#122\" target=\"_blank\"><span style=\"color: #7f7f7f; text-decoration-color: #7f7f7f\">122</span></a>\n",
       "<span style=\"color: #7fbfbf; text-decoration-color: #7fbfbf\">                    </span>                                     The model is using the custom eager          <span style=\"color: #7f7f7f; text-decoration-color: #7f7f7f\">             </span>\n",
       "<span style=\"color: #7fbfbf; text-decoration-color: #7fbfbf\">                    </span>         attention implementation that support attention matrix hooks because I   <span style=\"color: #7f7f7f; text-decoration-color: #7f7f7f\">             </span>\n",
       "<span style=\"color: #7fbfbf; text-decoration-color: #7fbfbf\">                    </span>         get config.attn_impelemntation == <span style=\"color: #008000; text-decoration-color: #008000\">'custom_eager'</span>. If you don't want      <span style=\"color: #7f7f7f; text-decoration-color: #7f7f7f\">             </span>\n",
       "<span style=\"color: #7fbfbf; text-decoration-color: #7fbfbf\">                    </span>         this, you can call HookedModel.restore_original_modules.                 <span style=\"color: #7f7f7f; text-decoration-color: #7f7f7f\">             </span>\n",
       "<span style=\"color: #7fbfbf; text-decoration-color: #7fbfbf\">                    </span>                                     However, we reccomend using this             <span style=\"color: #7f7f7f; text-decoration-color: #7f7f7f\">             </span>\n",
       "<span style=\"color: #7fbfbf; text-decoration-color: #7fbfbf\">                    </span>         implementation since the base one do not contains attention matrix hook  <span style=\"color: #7f7f7f; text-decoration-color: #7f7f7f\">             </span>\n",
       "<span style=\"color: #7fbfbf; text-decoration-color: #7fbfbf\">                    </span>         resulting in unexpected behaviours.                                      <span style=\"color: #7f7f7f; text-decoration-color: #7f7f7f\">             </span>\n",
       "<span style=\"color: #7fbfbf; text-decoration-color: #7fbfbf\">                    </span>                                                                                  <span style=\"color: #7f7f7f; text-decoration-color: #7f7f7f\">             </span>\n",
       "</pre>\n"
      ],
      "text/plain": [
       "\u001b[2;36m                   \u001b[0m\u001b[2;36m \u001b[0m\u001b[34mINFO    \u001b[0m \u001b[1;36m2025\u001b[0m-\u001b[1;36m02\u001b[0m-\u001b[1;36m13\u001b[0m \u001b[1;92m15:47:39\u001b[0m,\u001b[1;36m845\u001b[0m - HookedModel_stdout - INFO -                    \u001b]8;id=346375;file:///orfeo/cephfs/home/dssc/francescortu/VisualComp/easyroutine/easyroutine/logger.py\u001b\\\u001b[2mlogger.py\u001b[0m\u001b]8;;\u001b\\\u001b[2m:\u001b[0m\u001b]8;id=164228;file:///orfeo/cephfs/home/dssc/francescortu/VisualComp/easyroutine/easyroutine/logger.py#122\u001b\\\u001b[2m122\u001b[0m\u001b]8;;\u001b\\\n",
       "\u001b[2;36m                    \u001b[0m                                     The model is using the custom eager          \u001b[2m             \u001b[0m\n",
       "\u001b[2;36m                    \u001b[0m         attention implementation that support attention matrix hooks because I   \u001b[2m             \u001b[0m\n",
       "\u001b[2;36m                    \u001b[0m         get config.attn_impelemntation == \u001b[32m'custom_eager'\u001b[0m. If you don't want      \u001b[2m             \u001b[0m\n",
       "\u001b[2;36m                    \u001b[0m         this, you can call HookedModel.restore_original_modules.                 \u001b[2m             \u001b[0m\n",
       "\u001b[2;36m                    \u001b[0m                                     However, we reccomend using this             \u001b[2m             \u001b[0m\n",
       "\u001b[2;36m                    \u001b[0m         implementation since the base one do not contains attention matrix hook  \u001b[2m             \u001b[0m\n",
       "\u001b[2;36m                    \u001b[0m         resulting in unexpected behaviours.                                      \u001b[2m             \u001b[0m\n",
       "\u001b[2;36m                    \u001b[0m                                                                                  \u001b[2m             \u001b[0m\n"
      ]
     },
     "metadata": {},
     "output_type": "display_data"
    },
    {
     "data": {
      "text/html": [
       "<pre style=\"white-space:pre;overflow-x:auto;line-height:normal;font-family:Menlo,'DejaVu Sans Mono',consolas,'Courier New',monospace\"><span style=\"color: #7fbfbf; text-decoration-color: #7fbfbf\">                    </span><span style=\"color: #000080; text-decoration-color: #000080\">INFO    </span> <span style=\"color: #008080; text-decoration-color: #008080; font-weight: bold\">2025</span>-<span style=\"color: #008080; text-decoration-color: #008080; font-weight: bold\">02</span>-<span style=\"color: #008080; text-decoration-color: #008080; font-weight: bold\">13</span> <span style=\"color: #00ff00; text-decoration-color: #00ff00; font-weight: bold\">15:47:39</span>,<span style=\"color: #008080; text-decoration-color: #008080; font-weight: bold\">848</span> - HookedModel_stdout - INFO - Setting custom     <a href=\"file:///orfeo/cephfs/home/dssc/francescortu/VisualComp/easyroutine/easyroutine/logger.py\" target=\"_blank\"><span style=\"color: #7f7f7f; text-decoration-color: #7f7f7f\">logger.py</span></a><span style=\"color: #7f7f7f; text-decoration-color: #7f7f7f\">:</span><a href=\"file:///orfeo/cephfs/home/dssc/francescortu/VisualComp/easyroutine/easyroutine/logger.py#122\" target=\"_blank\"><span style=\"color: #7f7f7f; text-decoration-color: #7f7f7f\">122</span></a>\n",
       "<span style=\"color: #7fbfbf; text-decoration-color: #7fbfbf\">                    </span>         modules.                                                                 <span style=\"color: #7f7f7f; text-decoration-color: #7f7f7f\">             </span>\n",
       "</pre>\n"
      ],
      "text/plain": [
       "\u001b[2;36m                   \u001b[0m\u001b[2;36m \u001b[0m\u001b[34mINFO    \u001b[0m \u001b[1;36m2025\u001b[0m-\u001b[1;36m02\u001b[0m-\u001b[1;36m13\u001b[0m \u001b[1;92m15:47:39\u001b[0m,\u001b[1;36m848\u001b[0m - HookedModel_stdout - INFO - Setting custom     \u001b]8;id=360975;file:///orfeo/cephfs/home/dssc/francescortu/VisualComp/easyroutine/easyroutine/logger.py\u001b\\\u001b[2mlogger.py\u001b[0m\u001b]8;;\u001b\\\u001b[2m:\u001b[0m\u001b]8;id=754820;file:///orfeo/cephfs/home/dssc/francescortu/VisualComp/easyroutine/easyroutine/logger.py#122\u001b\\\u001b[2m122\u001b[0m\u001b]8;;\u001b\\\n",
       "\u001b[2;36m                    \u001b[0m         modules.                                                                 \u001b[2m             \u001b[0m\n"
      ]
     },
     "metadata": {},
     "output_type": "display_data"
    }
   ],
   "source": [
    "model = HookedModel.from_pretrained(\"hf-internal-testing/tiny-random-LlamaForCausalLM\")"
   ]
  },
  {
   "cell_type": "code",
   "execution_count": 4,
   "metadata": {},
   "outputs": [],
   "source": [
    "logit_lens = LogitLens.from_model(model)"
   ]
  },
  {
   "cell_type": "code",
   "execution_count": 5,
   "metadata": {},
   "outputs": [
    {
     "data": {
      "text/html": [
       "<pre style=\"white-space:pre;overflow-x:auto;line-height:normal;font-family:Menlo,'DejaVu Sans Mono',consolas,'Courier New',monospace\"><span style=\"color: #7fbfbf; text-decoration-color: #7fbfbf\">                    </span><span style=\"color: #000080; text-decoration-color: #000080\">INFO    </span> <span style=\"color: #008080; text-decoration-color: #008080; font-weight: bold\">2025</span>-<span style=\"color: #008080; text-decoration-color: #008080; font-weight: bold\">02</span>-<span style=\"color: #008080; text-decoration-color: #008080; font-weight: bold\">13</span> <span style=\"color: #00ff00; text-decoration-color: #00ff00; font-weight: bold\">15:47:39</span>,<span style=\"color: #008080; text-decoration-color: #008080; font-weight: bold\">912</span> - HookedModel_stdout - INFO - Extracting cache   <a href=\"file:///orfeo/cephfs/home/dssc/francescortu/VisualComp/easyroutine/easyroutine/logger.py\" target=\"_blank\"><span style=\"color: #7f7f7f; text-decoration-color: #7f7f7f\">logger.py</span></a><span style=\"color: #7f7f7f; text-decoration-color: #7f7f7f\">:</span><a href=\"file:///orfeo/cephfs/home/dssc/francescortu/VisualComp/easyroutine/easyroutine/logger.py#122\" target=\"_blank\"><span style=\"color: #7f7f7f; text-decoration-color: #7f7f7f\">122</span></a>\n",
       "</pre>\n"
      ],
      "text/plain": [
       "\u001b[2;36m                   \u001b[0m\u001b[2;36m \u001b[0m\u001b[34mINFO    \u001b[0m \u001b[1;36m2025\u001b[0m-\u001b[1;36m02\u001b[0m-\u001b[1;36m13\u001b[0m \u001b[1;92m15:47:39\u001b[0m,\u001b[1;36m912\u001b[0m - HookedModel_stdout - INFO - Extracting cache   \u001b]8;id=524725;file:///orfeo/cephfs/home/dssc/francescortu/VisualComp/easyroutine/easyroutine/logger.py\u001b\\\u001b[2mlogger.py\u001b[0m\u001b]8;;\u001b\\\u001b[2m:\u001b[0m\u001b]8;id=796928;file:///orfeo/cephfs/home/dssc/francescortu/VisualComp/easyroutine/easyroutine/logger.py#122\u001b\\\u001b[2m122\u001b[0m\u001b]8;;\u001b\\\n"
      ]
     },
     "metadata": {},
     "output_type": "display_data"
    },
    {
     "data": {
      "text/html": [
       "<pre style=\"white-space:pre;overflow-x:auto;line-height:normal;font-family:Menlo,'DejaVu Sans Mono',consolas,'Courier New',monospace\"><span style=\"color: #7fbfbf; text-decoration-color: #7fbfbf\">                    </span><span style=\"color: #000080; text-decoration-color: #000080\">INFO    </span> <span style=\"color: #008080; text-decoration-color: #008080; font-weight: bold\">2025</span>-<span style=\"color: #008080; text-decoration-color: #008080; font-weight: bold\">02</span>-<span style=\"color: #008080; text-decoration-color: #008080; font-weight: bold\">13</span> <span style=\"color: #00ff00; text-decoration-color: #00ff00; font-weight: bold\">15:47:39</span>,<span style=\"color: #008080; text-decoration-color: #008080; font-weight: bold\">914</span> - HookedModel_stdout - INFO - Forward pass       <a href=\"file:///orfeo/cephfs/home/dssc/francescortu/VisualComp/easyroutine/easyroutine/logger.py\" target=\"_blank\"><span style=\"color: #7f7f7f; text-decoration-color: #7f7f7f\">logger.py</span></a><span style=\"color: #7f7f7f; text-decoration-color: #7f7f7f\">:</span><a href=\"file:///orfeo/cephfs/home/dssc/francescortu/VisualComp/easyroutine/easyroutine/logger.py#122\" target=\"_blank\"><span style=\"color: #7f7f7f; text-decoration-color: #7f7f7f\">122</span></a>\n",
       "<span style=\"color: #7fbfbf; text-decoration-color: #7fbfbf\">                    </span>         started                                                                  <span style=\"color: #7f7f7f; text-decoration-color: #7f7f7f\">             </span>\n",
       "</pre>\n"
      ],
      "text/plain": [
       "\u001b[2;36m                   \u001b[0m\u001b[2;36m \u001b[0m\u001b[34mINFO    \u001b[0m \u001b[1;36m2025\u001b[0m-\u001b[1;36m02\u001b[0m-\u001b[1;36m13\u001b[0m \u001b[1;92m15:47:39\u001b[0m,\u001b[1;36m914\u001b[0m - HookedModel_stdout - INFO - Forward pass       \u001b]8;id=445440;file:///orfeo/cephfs/home/dssc/francescortu/VisualComp/easyroutine/easyroutine/logger.py\u001b\\\u001b[2mlogger.py\u001b[0m\u001b]8;;\u001b\\\u001b[2m:\u001b[0m\u001b]8;id=548334;file:///orfeo/cephfs/home/dssc/francescortu/VisualComp/easyroutine/easyroutine/logger.py#122\u001b\\\u001b[2m122\u001b[0m\u001b]8;;\u001b\\\n",
       "\u001b[2;36m                    \u001b[0m         started                                                                  \u001b[2m             \u001b[0m\n"
      ]
     },
     "metadata": {},
     "output_type": "display_data"
    },
    {
     "name": "stderr",
     "output_type": "stream",
     "text": [
      "Extracting cache::   0%|          | 0/2 [00:00<?, ?it/s]"
     ]
    },
    {
     "name": "stderr",
     "output_type": "stream",
     "text": [
      "Extracting cache:: 100%|██████████| 2/2 [00:00<00:00,  2.54it/s]\n"
     ]
    },
    {
     "data": {
      "text/html": [
       "<pre style=\"white-space:pre;overflow-x:auto;line-height:normal;font-family:Menlo,'DejaVu Sans Mono',consolas,'Courier New',monospace\"><span style=\"color: #7fbfbf; text-decoration-color: #7fbfbf\">[02/13/25 15:47:40] </span><span style=\"color: #000080; text-decoration-color: #000080\">INFO    </span> <span style=\"color: #008080; text-decoration-color: #008080; font-weight: bold\">2025</span>-<span style=\"color: #008080; text-decoration-color: #008080; font-weight: bold\">02</span>-<span style=\"color: #008080; text-decoration-color: #008080; font-weight: bold\">13</span> <span style=\"color: #00ff00; text-decoration-color: #00ff00; font-weight: bold\">15:47:40</span>,<span style=\"color: #008080; text-decoration-color: #008080; font-weight: bold\">707</span> - HookedModel_stdout - INFO - Forward pass       <a href=\"file:///orfeo/cephfs/home/dssc/francescortu/VisualComp/easyroutine/easyroutine/logger.py\" target=\"_blank\"><span style=\"color: #7f7f7f; text-decoration-color: #7f7f7f\">logger.py</span></a><span style=\"color: #7f7f7f; text-decoration-color: #7f7f7f\">:</span><a href=\"file:///orfeo/cephfs/home/dssc/francescortu/VisualComp/easyroutine/easyroutine/logger.py#122\" target=\"_blank\"><span style=\"color: #7f7f7f; text-decoration-color: #7f7f7f\">122</span></a>\n",
       "<span style=\"color: #7fbfbf; text-decoration-color: #7fbfbf\">                    </span>         finished - started to aggregate different batch                          <span style=\"color: #7f7f7f; text-decoration-color: #7f7f7f\">             </span>\n",
       "</pre>\n"
      ],
      "text/plain": [
       "\u001b[2;36m[02/13/25 15:47:40]\u001b[0m\u001b[2;36m \u001b[0m\u001b[34mINFO    \u001b[0m \u001b[1;36m2025\u001b[0m-\u001b[1;36m02\u001b[0m-\u001b[1;36m13\u001b[0m \u001b[1;92m15:47:40\u001b[0m,\u001b[1;36m707\u001b[0m - HookedModel_stdout - INFO - Forward pass       \u001b]8;id=933108;file:///orfeo/cephfs/home/dssc/francescortu/VisualComp/easyroutine/easyroutine/logger.py\u001b\\\u001b[2mlogger.py\u001b[0m\u001b]8;;\u001b\\\u001b[2m:\u001b[0m\u001b]8;id=906604;file:///orfeo/cephfs/home/dssc/francescortu/VisualComp/easyroutine/easyroutine/logger.py#122\u001b\\\u001b[2m122\u001b[0m\u001b]8;;\u001b\\\n",
       "\u001b[2;36m                    \u001b[0m         finished - started to aggregate different batch                          \u001b[2m             \u001b[0m\n"
      ]
     },
     "metadata": {},
     "output_type": "display_data"
    }
   ],
   "source": [
    "import torch\n",
    "from easyroutine.interpretability import ExtractionConfig\n",
    "\n",
    "fake_dataset = [\n",
    "    {\n",
    "        \"input_ids\": torch.randint(0, 100, (1, 100)),\n",
    "        \"attention_mask\": torch.randint(0, 2, (1, 100)),\n",
    "    },\n",
    "    {\n",
    "        \"input_ids\": torch.randint(0, 100, (1, 100)),\n",
    "        \"attention_mask\": torch.randint(0, 2, (1, 100)),\n",
    "    }\n",
    "]\n",
    "\n",
    "cache = model.extract_cache(\n",
    "    fake_dataset,\n",
    "    target_token_positions=[\"last\"],\n",
    "    extraction_config = ExtractionConfig(\n",
    "        extract_resid_out=True\n",
    "    )\n",
    ")"
   ]
  },
  {
   "cell_type": "code",
   "execution_count": 8,
   "metadata": {},
   "outputs": [
    {
     "data": {
      "text/plain": [
       "ActivationCache(`resid_out_0, resid_out_1, logits, mapping_index, example_dict`)"
      ]
     },
     "execution_count": 8,
     "metadata": {},
     "output_type": "execute_result"
    }
   ],
   "source": [
    "cache"
   ]
  },
  {
   "cell_type": "code",
   "execution_count": 18,
   "metadata": {},
   "outputs": [
    {
     "name": "stderr",
     "output_type": "stream",
     "text": [
      "Computing Logit Lens of resid_out_{i}: 100%|██████████| 2/2 [00:33<00:00, 16.51s/it]\n"
     ]
    }
   ],
   "source": [
    "out = logit_lens.compute(\n",
    "    activations=cache,\n",
    "    target_key=\"resid_out_{i}\"\n",
    ")"
   ]
  },
  {
   "cell_type": "code",
   "execution_count": 19,
   "metadata": {},
   "outputs": [
    {
     "data": {
      "text/plain": [
       "torch.Size([2, 1, 32000])"
      ]
     },
     "execution_count": 19,
     "metadata": {},
     "output_type": "execute_result"
    }
   ],
   "source": [
    "out[\"logit_lens_resid_out_0\"].shape"
   ]
  }
 ],
 "metadata": {
  "kernelspec": {
   "display_name": ".venv",
   "language": "python",
   "name": "python3"
  },
  "language_info": {
   "codemirror_mode": {
    "name": "ipython",
    "version": 3
   },
   "file_extension": ".py",
   "mimetype": "text/x-python",
   "name": "python",
   "nbconvert_exporter": "python",
   "pygments_lexer": "ipython3",
   "version": "3.10.9"
  }
 },
 "nbformat": 4,
 "nbformat_minor": 2
}
