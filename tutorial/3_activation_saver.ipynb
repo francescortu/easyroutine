{
 "cells": [
  {
   "cell_type": "code",
   "execution_count": 1,
   "metadata": {},
   "outputs": [
    {
     "name": "stdout",
     "output_type": "stream",
     "text": [
      "Changed working directory to: /orfeo/cephfs/home/dssc/francescortu/VisualComp/easyroutine\n"
     ]
    }
   ],
   "source": [
    "from easyroutine.utils import path_to_parents\n",
    "path_to_parents(1)\n",
    "%load_ext autoreload\n",
    "%autoreload 2"
   ]
  },
  {
   "cell_type": "code",
   "execution_count": 2,
   "metadata": {},
   "outputs": [
    {
     "name": "stderr",
     "output_type": "stream",
     "text": [
      "/u/dssc/francescortu/VisualComp/.venv/lib/python3.10/site-packages/tqdm/auto.py:21: TqdmWarning: IProgress not found. Please update jupyter and ipywidgets. See https://ipywidgets.readthedocs.io/en/stable/user_install.html\n",
      "  from .autonotebook import tqdm as notebook_tqdm\n",
      "/u/dssc/francescortu/VisualComp/.venv/lib/python3.10/site-packages/transformers/utils/hub.py:128: FutureWarning: Using `TRANSFORMERS_CACHE` is deprecated and will be removed in v5 of Transformers. Use `HF_HOME` instead.\n",
      "  warnings.warn(\n",
      "/u/dssc/francescortu/VisualComp/.venv/lib/python3.10/site-packages/transformers/generation/configuration_utils.py:606: UserWarning: `pad_token_id` should be positive but got -1. This will cause errors when batch generating, if there is padding. Please set `pad_token_id` explicitly as `model.generation_config.pad_token_id=PAD_TOKEN_ID` to avoid errors in generation\n",
      "  warnings.warn(\n",
      "You are using the default legacy behaviour of the <class 'transformers.models.llama.tokenization_llama.LlamaTokenizer'>. This is expected, and simply means that the `legacy` (previous) behavior will be used so nothing changes for you. If you want to use the new behaviour, set `legacy=False`. This should only be set if you understand what it means, and thoroughly read the reason why this was added as explained in https://github.com/huggingface/transformers/pull/24565 - if you loaded a llama tokenizer from a GGUF file you can ignore this message\n"
     ]
    },
    {
     "data": {
      "text/html": [
       "<pre style=\"white-space:pre;overflow-x:auto;line-height:normal;font-family:Menlo,'DejaVu Sans Mono',consolas,'Courier New',monospace\"><span style=\"color: #7fbfbf; text-decoration-color: #7fbfbf\">[02/12/25 17:07:33] </span><span style=\"color: #000080; text-decoration-color: #000080\">INFO    </span> <span style=\"color: #008080; text-decoration-color: #008080; font-weight: bold\">2025</span>-<span style=\"color: #008080; text-decoration-color: #008080; font-weight: bold\">02</span>-<span style=\"color: #008080; text-decoration-color: #008080; font-weight: bold\">12</span> <span style=\"color: #00ff00; text-decoration-color: #00ff00; font-weight: bold\">17:07:33</span>,<span style=\"color: #008080; text-decoration-color: #008080; font-weight: bold\">119</span> - HookedModel_stdout - INFO - Model loaded in <span style=\"color: #008080; text-decoration-color: #008080; font-weight: bold\">1</span>  <a href=\"file:///orfeo/cephfs/home/dssc/francescortu/VisualComp/easyroutine/easyroutine/logger.py\" target=\"_blank\"><span style=\"color: #7f7f7f; text-decoration-color: #7f7f7f\">logger.py</span></a><span style=\"color: #7f7f7f; text-decoration-color: #7f7f7f\">:</span><a href=\"file:///orfeo/cephfs/home/dssc/francescortu/VisualComp/easyroutine/easyroutine/logger.py#122\" target=\"_blank\"><span style=\"color: #7f7f7f; text-decoration-color: #7f7f7f\">122</span></a>\n",
       "<span style=\"color: #7fbfbf; text-decoration-color: #7fbfbf\">                    </span>         devices. First device: cu<span style=\"color: #00ff00; text-decoration-color: #00ff00; font-weight: bold\">da:0</span>                                            <span style=\"color: #7f7f7f; text-decoration-color: #7f7f7f\">             </span>\n",
       "</pre>\n"
      ],
      "text/plain": [
       "\u001b[2;36m[02/12/25 17:07:33]\u001b[0m\u001b[2;36m \u001b[0m\u001b[34mINFO    \u001b[0m \u001b[1;36m2025\u001b[0m-\u001b[1;36m02\u001b[0m-\u001b[1;36m12\u001b[0m \u001b[1;92m17:07:33\u001b[0m,\u001b[1;36m119\u001b[0m - HookedModel_stdout - INFO - Model loaded in \u001b[1;36m1\u001b[0m  \u001b]8;id=833551;file:///orfeo/cephfs/home/dssc/francescortu/VisualComp/easyroutine/easyroutine/logger.py\u001b\\\u001b[2mlogger.py\u001b[0m\u001b]8;;\u001b\\\u001b[2m:\u001b[0m\u001b]8;id=175976;file:///orfeo/cephfs/home/dssc/francescortu/VisualComp/easyroutine/easyroutine/logger.py#122\u001b\\\u001b[2m122\u001b[0m\u001b]8;;\u001b\\\n",
       "\u001b[2;36m                    \u001b[0m         devices. First device: cu\u001b[1;92mda:0\u001b[0m                                            \u001b[2m             \u001b[0m\n"
      ]
     },
     "metadata": {},
     "output_type": "display_data"
    },
    {
     "data": {
      "text/html": [
       "<pre style=\"white-space:pre;overflow-x:auto;line-height:normal;font-family:Menlo,'DejaVu Sans Mono',consolas,'Courier New',monospace\"><span style=\"color: #7fbfbf; text-decoration-color: #7fbfbf\">                    </span><span style=\"color: #000080; text-decoration-color: #000080\">INFO    </span> <span style=\"color: #008080; text-decoration-color: #008080; font-weight: bold\">2025</span>-<span style=\"color: #008080; text-decoration-color: #008080; font-weight: bold\">02</span>-<span style=\"color: #008080; text-decoration-color: #008080; font-weight: bold\">12</span> <span style=\"color: #00ff00; text-decoration-color: #00ff00; font-weight: bold\">17:07:33</span>,<span style=\"color: #008080; text-decoration-color: #008080; font-weight: bold\">124</span> - HookedModel_stdout - INFO -                    <a href=\"file:///orfeo/cephfs/home/dssc/francescortu/VisualComp/easyroutine/easyroutine/logger.py\" target=\"_blank\"><span style=\"color: #7f7f7f; text-decoration-color: #7f7f7f\">logger.py</span></a><span style=\"color: #7f7f7f; text-decoration-color: #7f7f7f\">:</span><a href=\"file:///orfeo/cephfs/home/dssc/francescortu/VisualComp/easyroutine/easyroutine/logger.py#122\" target=\"_blank\"><span style=\"color: #7f7f7f; text-decoration-color: #7f7f7f\">122</span></a>\n",
       "<span style=\"color: #7fbfbf; text-decoration-color: #7fbfbf\">                    </span>                                     The model is using the custom eager          <span style=\"color: #7f7f7f; text-decoration-color: #7f7f7f\">             </span>\n",
       "<span style=\"color: #7fbfbf; text-decoration-color: #7fbfbf\">                    </span>         attention implementation that support attention matrix hooks because I   <span style=\"color: #7f7f7f; text-decoration-color: #7f7f7f\">             </span>\n",
       "<span style=\"color: #7fbfbf; text-decoration-color: #7fbfbf\">                    </span>         get config.attn_impelemntation == <span style=\"color: #008000; text-decoration-color: #008000\">'custom_eager'</span>. If you don't want      <span style=\"color: #7f7f7f; text-decoration-color: #7f7f7f\">             </span>\n",
       "<span style=\"color: #7fbfbf; text-decoration-color: #7fbfbf\">                    </span>         this, you can call HookedModel.restore_original_modules.                 <span style=\"color: #7f7f7f; text-decoration-color: #7f7f7f\">             </span>\n",
       "<span style=\"color: #7fbfbf; text-decoration-color: #7fbfbf\">                    </span>                                     However, we reccomend using this             <span style=\"color: #7f7f7f; text-decoration-color: #7f7f7f\">             </span>\n",
       "<span style=\"color: #7fbfbf; text-decoration-color: #7fbfbf\">                    </span>         implementation since the base one do not contains attention matrix hook  <span style=\"color: #7f7f7f; text-decoration-color: #7f7f7f\">             </span>\n",
       "<span style=\"color: #7fbfbf; text-decoration-color: #7fbfbf\">                    </span>         resulting in unexpected behaviours.                                      <span style=\"color: #7f7f7f; text-decoration-color: #7f7f7f\">             </span>\n",
       "<span style=\"color: #7fbfbf; text-decoration-color: #7fbfbf\">                    </span>                                                                                  <span style=\"color: #7f7f7f; text-decoration-color: #7f7f7f\">             </span>\n",
       "</pre>\n"
      ],
      "text/plain": [
       "\u001b[2;36m                   \u001b[0m\u001b[2;36m \u001b[0m\u001b[34mINFO    \u001b[0m \u001b[1;36m2025\u001b[0m-\u001b[1;36m02\u001b[0m-\u001b[1;36m12\u001b[0m \u001b[1;92m17:07:33\u001b[0m,\u001b[1;36m124\u001b[0m - HookedModel_stdout - INFO -                    \u001b]8;id=654328;file:///orfeo/cephfs/home/dssc/francescortu/VisualComp/easyroutine/easyroutine/logger.py\u001b\\\u001b[2mlogger.py\u001b[0m\u001b]8;;\u001b\\\u001b[2m:\u001b[0m\u001b]8;id=768956;file:///orfeo/cephfs/home/dssc/francescortu/VisualComp/easyroutine/easyroutine/logger.py#122\u001b\\\u001b[2m122\u001b[0m\u001b]8;;\u001b\\\n",
       "\u001b[2;36m                    \u001b[0m                                     The model is using the custom eager          \u001b[2m             \u001b[0m\n",
       "\u001b[2;36m                    \u001b[0m         attention implementation that support attention matrix hooks because I   \u001b[2m             \u001b[0m\n",
       "\u001b[2;36m                    \u001b[0m         get config.attn_impelemntation == \u001b[32m'custom_eager'\u001b[0m. If you don't want      \u001b[2m             \u001b[0m\n",
       "\u001b[2;36m                    \u001b[0m         this, you can call HookedModel.restore_original_modules.                 \u001b[2m             \u001b[0m\n",
       "\u001b[2;36m                    \u001b[0m                                     However, we reccomend using this             \u001b[2m             \u001b[0m\n",
       "\u001b[2;36m                    \u001b[0m         implementation since the base one do not contains attention matrix hook  \u001b[2m             \u001b[0m\n",
       "\u001b[2;36m                    \u001b[0m         resulting in unexpected behaviours.                                      \u001b[2m             \u001b[0m\n",
       "\u001b[2;36m                    \u001b[0m                                                                                  \u001b[2m             \u001b[0m\n"
      ]
     },
     "metadata": {},
     "output_type": "display_data"
    },
    {
     "data": {
      "text/html": [
       "<pre style=\"white-space:pre;overflow-x:auto;line-height:normal;font-family:Menlo,'DejaVu Sans Mono',consolas,'Courier New',monospace\"><span style=\"color: #7fbfbf; text-decoration-color: #7fbfbf\">                    </span><span style=\"color: #000080; text-decoration-color: #000080\">INFO    </span> <span style=\"color: #008080; text-decoration-color: #008080; font-weight: bold\">2025</span>-<span style=\"color: #008080; text-decoration-color: #008080; font-weight: bold\">02</span>-<span style=\"color: #008080; text-decoration-color: #008080; font-weight: bold\">12</span> <span style=\"color: #00ff00; text-decoration-color: #00ff00; font-weight: bold\">17:07:33</span>,<span style=\"color: #008080; text-decoration-color: #008080; font-weight: bold\">127</span> - HookedModel_stdout - INFO - Setting custom     <a href=\"file:///orfeo/cephfs/home/dssc/francescortu/VisualComp/easyroutine/easyroutine/logger.py\" target=\"_blank\"><span style=\"color: #7f7f7f; text-decoration-color: #7f7f7f\">logger.py</span></a><span style=\"color: #7f7f7f; text-decoration-color: #7f7f7f\">:</span><a href=\"file:///orfeo/cephfs/home/dssc/francescortu/VisualComp/easyroutine/easyroutine/logger.py#122\" target=\"_blank\"><span style=\"color: #7f7f7f; text-decoration-color: #7f7f7f\">122</span></a>\n",
       "<span style=\"color: #7fbfbf; text-decoration-color: #7fbfbf\">                    </span>         modules.                                                                 <span style=\"color: #7f7f7f; text-decoration-color: #7f7f7f\">             </span>\n",
       "</pre>\n"
      ],
      "text/plain": [
       "\u001b[2;36m                   \u001b[0m\u001b[2;36m \u001b[0m\u001b[34mINFO    \u001b[0m \u001b[1;36m2025\u001b[0m-\u001b[1;36m02\u001b[0m-\u001b[1;36m12\u001b[0m \u001b[1;92m17:07:33\u001b[0m,\u001b[1;36m127\u001b[0m - HookedModel_stdout - INFO - Setting custom     \u001b]8;id=615570;file:///orfeo/cephfs/home/dssc/francescortu/VisualComp/easyroutine/easyroutine/logger.py\u001b\\\u001b[2mlogger.py\u001b[0m\u001b]8;;\u001b\\\u001b[2m:\u001b[0m\u001b]8;id=493431;file:///orfeo/cephfs/home/dssc/francescortu/VisualComp/easyroutine/easyroutine/logger.py#122\u001b\\\u001b[2m122\u001b[0m\u001b]8;;\u001b\\\n",
       "\u001b[2;36m                    \u001b[0m         modules.                                                                 \u001b[2m             \u001b[0m\n"
      ]
     },
     "metadata": {},
     "output_type": "display_data"
    }
   ],
   "source": [
    "from easyroutine.interpretability import HookedModel\n",
    "from easyroutine.interpretability.tools import LogitLens\n",
    "from easyroutine.interpretability.activation_saver import ActivationSaver, ActivationLoader\n",
    "\n",
    "\n",
    "model = HookedModel.from_pretrained(\"hf-internal-testing/tiny-random-LlamaForCausalLM\")\n"
   ]
  },
  {
   "cell_type": "code",
   "execution_count": 3,
   "metadata": {},
   "outputs": [
    {
     "data": {
      "text/html": [
       "<pre style=\"white-space:pre;overflow-x:auto;line-height:normal;font-family:Menlo,'DejaVu Sans Mono',consolas,'Courier New',monospace\"><span style=\"color: #7fbfbf; text-decoration-color: #7fbfbf\">                    </span><span style=\"color: #000080; text-decoration-color: #000080\">INFO    </span> <span style=\"color: #008080; text-decoration-color: #008080; font-weight: bold\">2025</span>-<span style=\"color: #008080; text-decoration-color: #008080; font-weight: bold\">02</span>-<span style=\"color: #008080; text-decoration-color: #008080; font-weight: bold\">12</span> <span style=\"color: #00ff00; text-decoration-color: #00ff00; font-weight: bold\">17:07:33</span>,<span style=\"color: #008080; text-decoration-color: #008080; font-weight: bold\">184</span> - HookedModel_stdout - INFO - Extracting cache   <a href=\"file:///orfeo/cephfs/home/dssc/francescortu/VisualComp/easyroutine/easyroutine/logger.py\" target=\"_blank\"><span style=\"color: #7f7f7f; text-decoration-color: #7f7f7f\">logger.py</span></a><span style=\"color: #7f7f7f; text-decoration-color: #7f7f7f\">:</span><a href=\"file:///orfeo/cephfs/home/dssc/francescortu/VisualComp/easyroutine/easyroutine/logger.py#122\" target=\"_blank\"><span style=\"color: #7f7f7f; text-decoration-color: #7f7f7f\">122</span></a>\n",
       "</pre>\n"
      ],
      "text/plain": [
       "\u001b[2;36m                   \u001b[0m\u001b[2;36m \u001b[0m\u001b[34mINFO    \u001b[0m \u001b[1;36m2025\u001b[0m-\u001b[1;36m02\u001b[0m-\u001b[1;36m12\u001b[0m \u001b[1;92m17:07:33\u001b[0m,\u001b[1;36m184\u001b[0m - HookedModel_stdout - INFO - Extracting cache   \u001b]8;id=950883;file:///orfeo/cephfs/home/dssc/francescortu/VisualComp/easyroutine/easyroutine/logger.py\u001b\\\u001b[2mlogger.py\u001b[0m\u001b]8;;\u001b\\\u001b[2m:\u001b[0m\u001b]8;id=462336;file:///orfeo/cephfs/home/dssc/francescortu/VisualComp/easyroutine/easyroutine/logger.py#122\u001b\\\u001b[2m122\u001b[0m\u001b]8;;\u001b\\\n"
      ]
     },
     "metadata": {},
     "output_type": "display_data"
    },
    {
     "data": {
      "text/html": [
       "<pre style=\"white-space:pre;overflow-x:auto;line-height:normal;font-family:Menlo,'DejaVu Sans Mono',consolas,'Courier New',monospace\"><span style=\"color: #7fbfbf; text-decoration-color: #7fbfbf\">                    </span><span style=\"color: #000080; text-decoration-color: #000080\">INFO    </span> <span style=\"color: #008080; text-decoration-color: #008080; font-weight: bold\">2025</span>-<span style=\"color: #008080; text-decoration-color: #008080; font-weight: bold\">02</span>-<span style=\"color: #008080; text-decoration-color: #008080; font-weight: bold\">12</span> <span style=\"color: #00ff00; text-decoration-color: #00ff00; font-weight: bold\">17:07:33</span>,<span style=\"color: #008080; text-decoration-color: #008080; font-weight: bold\">186</span> - HookedModel_stdout - INFO - Forward pass       <a href=\"file:///orfeo/cephfs/home/dssc/francescortu/VisualComp/easyroutine/easyroutine/logger.py\" target=\"_blank\"><span style=\"color: #7f7f7f; text-decoration-color: #7f7f7f\">logger.py</span></a><span style=\"color: #7f7f7f; text-decoration-color: #7f7f7f\">:</span><a href=\"file:///orfeo/cephfs/home/dssc/francescortu/VisualComp/easyroutine/easyroutine/logger.py#122\" target=\"_blank\"><span style=\"color: #7f7f7f; text-decoration-color: #7f7f7f\">122</span></a>\n",
       "<span style=\"color: #7fbfbf; text-decoration-color: #7fbfbf\">                    </span>         started                                                                  <span style=\"color: #7f7f7f; text-decoration-color: #7f7f7f\">             </span>\n",
       "</pre>\n"
      ],
      "text/plain": [
       "\u001b[2;36m                   \u001b[0m\u001b[2;36m \u001b[0m\u001b[34mINFO    \u001b[0m \u001b[1;36m2025\u001b[0m-\u001b[1;36m02\u001b[0m-\u001b[1;36m12\u001b[0m \u001b[1;92m17:07:33\u001b[0m,\u001b[1;36m186\u001b[0m - HookedModel_stdout - INFO - Forward pass       \u001b]8;id=975451;file:///orfeo/cephfs/home/dssc/francescortu/VisualComp/easyroutine/easyroutine/logger.py\u001b\\\u001b[2mlogger.py\u001b[0m\u001b]8;;\u001b\\\u001b[2m:\u001b[0m\u001b]8;id=357489;file:///orfeo/cephfs/home/dssc/francescortu/VisualComp/easyroutine/easyroutine/logger.py#122\u001b\\\u001b[2m122\u001b[0m\u001b]8;;\u001b\\\n",
       "\u001b[2;36m                    \u001b[0m         started                                                                  \u001b[2m             \u001b[0m\n"
      ]
     },
     "metadata": {},
     "output_type": "display_data"
    },
    {
     "name": "stderr",
     "output_type": "stream",
     "text": [
      "Extracting cache::   0%|          | 0/2 [00:00<?, ?it/s]"
     ]
    },
    {
     "name": "stderr",
     "output_type": "stream",
     "text": [
      "Extracting cache:: 100%|██████████| 2/2 [00:00<00:00, 10.33it/s]\n"
     ]
    },
    {
     "data": {
      "text/html": [
       "<pre style=\"white-space:pre;overflow-x:auto;line-height:normal;font-family:Menlo,'DejaVu Sans Mono',consolas,'Courier New',monospace\"><span style=\"color: #7fbfbf; text-decoration-color: #7fbfbf\">                    </span><span style=\"color: #000080; text-decoration-color: #000080\">INFO    </span> <span style=\"color: #008080; text-decoration-color: #008080; font-weight: bold\">2025</span>-<span style=\"color: #008080; text-decoration-color: #008080; font-weight: bold\">02</span>-<span style=\"color: #008080; text-decoration-color: #008080; font-weight: bold\">12</span> <span style=\"color: #00ff00; text-decoration-color: #00ff00; font-weight: bold\">17:07:33</span>,<span style=\"color: #008080; text-decoration-color: #008080; font-weight: bold\">383</span> - HookedModel_stdout - INFO - Forward pass       <a href=\"file:///orfeo/cephfs/home/dssc/francescortu/VisualComp/easyroutine/easyroutine/logger.py\" target=\"_blank\"><span style=\"color: #7f7f7f; text-decoration-color: #7f7f7f\">logger.py</span></a><span style=\"color: #7f7f7f; text-decoration-color: #7f7f7f\">:</span><a href=\"file:///orfeo/cephfs/home/dssc/francescortu/VisualComp/easyroutine/easyroutine/logger.py#122\" target=\"_blank\"><span style=\"color: #7f7f7f; text-decoration-color: #7f7f7f\">122</span></a>\n",
       "<span style=\"color: #7fbfbf; text-decoration-color: #7fbfbf\">                    </span>         finished - started to aggregate different batch                          <span style=\"color: #7f7f7f; text-decoration-color: #7f7f7f\">             </span>\n",
       "</pre>\n"
      ],
      "text/plain": [
       "\u001b[2;36m                   \u001b[0m\u001b[2;36m \u001b[0m\u001b[34mINFO    \u001b[0m \u001b[1;36m2025\u001b[0m-\u001b[1;36m02\u001b[0m-\u001b[1;36m12\u001b[0m \u001b[1;92m17:07:33\u001b[0m,\u001b[1;36m383\u001b[0m - HookedModel_stdout - INFO - Forward pass       \u001b]8;id=656872;file:///orfeo/cephfs/home/dssc/francescortu/VisualComp/easyroutine/easyroutine/logger.py\u001b\\\u001b[2mlogger.py\u001b[0m\u001b]8;;\u001b\\\u001b[2m:\u001b[0m\u001b]8;id=302660;file:///orfeo/cephfs/home/dssc/francescortu/VisualComp/easyroutine/easyroutine/logger.py#122\u001b\\\u001b[2m122\u001b[0m\u001b]8;;\u001b\\\n",
       "\u001b[2;36m                    \u001b[0m         finished - started to aggregate different batch                          \u001b[2m             \u001b[0m\n"
      ]
     },
     "metadata": {},
     "output_type": "display_data"
    }
   ],
   "source": [
    "import torch\n",
    "from easyroutine.interpretability import ExtractionConfig\n",
    "\n",
    "fake_dataset = [\n",
    "    {\n",
    "        \"input_ids\": torch.randint(0, 100, (1, 100)),\n",
    "        \"attention_mask\": torch.randint(0, 2, (1, 100)),\n",
    "    },\n",
    "    {\n",
    "        \"input_ids\": torch.randint(0, 100, (1, 100)),\n",
    "        \"attention_mask\": torch.randint(0, 2, (1, 100)),\n",
    "    }\n",
    "]\n",
    "\n",
    "cache = model.extract_cache(\n",
    "    fake_dataset,\n",
    "    target_token_positions=[\"last\"],\n",
    "    extraction_config = ExtractionConfig(\n",
    "        extract_resid_out=True\n",
    "    )\n",
    ")"
   ]
  },
  {
   "cell_type": "code",
   "execution_count": 4,
   "metadata": {},
   "outputs": [],
   "source": [
    "saver = ActivationSaver(base_dir=\"tmp\")"
   ]
  },
  {
   "cell_type": "code",
   "execution_count": 5,
   "metadata": {},
   "outputs": [
    {
     "data": {
      "text/html": [
       "<pre style=\"white-space:pre;overflow-x:auto;line-height:normal;font-family:Menlo,'DejaVu Sans Mono',consolas,'Courier New',monospace\">\n",
       "Saving results:\n",
       "        - Experiment: default,\n",
       "        - Model Name: hf-internal-testing/tiny-random-LlamaForCausalLM,\n",
       "Activations saved in BASE_DIR/default/hf-internal-testing/tiny-random-LlamaForCausalLM\n",
       "\n",
       "</pre>\n"
      ],
      "text/plain": [
       "\n",
       "Saving results:\n",
       "        - Experiment: default,\n",
       "        - Model Name: hf-internal-testing/tiny-random-LlamaForCausalLM,\n",
       "Activations saved in BASE_DIR/default/hf-internal-testing/tiny-random-LlamaForCausalLM\n",
       "\n"
      ]
     },
     "metadata": {},
     "output_type": "display_data"
    },
    {
     "data": {
      "text/plain": [
       "PosixPath('tmp/default/hf-internal-testing_tiny-random-LlamaForCausalLM/2025-02-12_17_07_33')"
      ]
     },
     "execution_count": 5,
     "metadata": {},
     "output_type": "execute_result"
    }
   ],
   "source": [
    "saver.save(\n",
    "    model = model,\n",
    "    activations=cache,\n",
    "    target_token_positions=[\"last\"],\n",
    "    pivot_positions=None,\n",
    "    extraction_config=ExtractionConfig(\n",
    "        extract_resid_out=True\n",
    "    ),\n",
    "    ablation_queries=None,\n",
    "    patching_queries=None,\n",
    "    \n",
    ")"
   ]
  },
  {
   "cell_type": "code",
   "execution_count": 6,
   "metadata": {},
   "outputs": [],
   "source": [
    "loader = ActivationLoader.from_saver(saver)"
   ]
  },
  {
   "cell_type": "code",
   "execution_count": 7,
   "metadata": {},
   "outputs": [
    {
     "data": {
      "text/plain": [
       "PosixPath('tmp')"
      ]
     },
     "execution_count": 7,
     "metadata": {},
     "output_type": "execute_result"
    }
   ],
   "source": [
    "loader.base_dir"
   ]
  },
  {
   "cell_type": "code",
   "execution_count": 9,
   "metadata": {},
   "outputs": [],
   "source": [
    "obj = loader.query(experiment_name=\"default\")"
   ]
  },
  {
   "cell_type": "code",
   "execution_count": 12,
   "metadata": {},
   "outputs": [
    {
     "name": "stderr",
     "output_type": "stream",
     "text": [
      "/orfeo/cephfs/home/dssc/francescortu/VisualComp/easyroutine/easyroutine/interpretability/activation_saver.py:178: FutureWarning: You are using `torch.load` with `weights_only=False` (the current default value), which uses the default pickle module implicitly. It is possible to construct malicious pickle data which will execute arbitrary code during unpickling (See https://github.com/pytorch/pytorch/blob/main/SECURITY.md#untrusted-models for more details). In a future release, the default value for `weights_only` will be flipped to `True`. This limits the functions that could be executed during unpickling. Arbitrary objects will no longer be allowed to be loaded via this mode unless they are explicitly allowlisted by the user via `torch.serialization.add_safe_globals`. We recommend you start setting `weights_only=True` for any use case where you don't have full control of the loaded file. Please open an issue on GitHub for any issues related to this experimental feature.\n",
      "  obj = torch.load(tensor_path)\n"
     ]
    }
   ],
   "source": [
    "cache, metadata  =obj.load(-1)"
   ]
  },
  {
   "cell_type": "code",
   "execution_count": 13,
   "metadata": {},
   "outputs": [
    {
     "data": {
      "text/plain": [
       "{'save_time': '2025-02-12 17:07:33',\n",
       " 'experiment_name': 'default',\n",
       " 'model_name': 'hf-internal-testing/tiny-random-LlamaForCausalLM',\n",
       " 'target_token_positions': ['last'],\n",
       " 'pivot_positions': None,\n",
       " 'ablation_queries': None,\n",
       " 'patching_queries': None,\n",
       " 'extraction_config': {'extract_resid_in': False,\n",
       "  'extract_resid_mid': False,\n",
       "  'extract_resid_out': True,\n",
       "  'extract_resid_in_post_layernorm': False,\n",
       "  'extract_attn_pattern': False,\n",
       "  'extract_head_values_projected': False,\n",
       "  'extract_head_keys': False,\n",
       "  'extract_head_values': False,\n",
       "  'extract_head_queries': False,\n",
       "  'extract_head_out': False,\n",
       "  'extract_attn_out': False,\n",
       "  'extract_attn_in': False,\n",
       "  'extract_mlp_out': False,\n",
       "  'save_input_ids': False,\n",
       "  'avg': False,\n",
       "  'avg_over_example': False,\n",
       "  'attn_heads': 'all',\n",
       "  'attn_pattern_avg': 'none',\n",
       "  'attn_pattern_row_positions': None}}"
      ]
     },
     "execution_count": 13,
     "metadata": {},
     "output_type": "execute_result"
    }
   ],
   "source": [
    "metadata"
   ]
  }
 ],
 "metadata": {
  "kernelspec": {
   "display_name": ".venv",
   "language": "python",
   "name": "python3"
  },
  "language_info": {
   "codemirror_mode": {
    "name": "ipython",
    "version": 3
   },
   "file_extension": ".py",
   "mimetype": "text/x-python",
   "name": "python",
   "nbconvert_exporter": "python",
   "pygments_lexer": "ipython3",
   "version": "3.10.9"
  }
 },
 "nbformat": 4,
 "nbformat_minor": 2
}
